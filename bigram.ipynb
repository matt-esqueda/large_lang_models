{
 "cells": [
  {
   "cell_type": "code",
   "execution_count": 1,
   "metadata": {},
   "outputs": [
    {
     "name": "stdout",
     "output_type": "stream",
     "text": [
      "cpu\n"
     ]
    }
   ],
   "source": [
    "import torch\n",
    "import torch.nn as nn\n",
    "from torch.nn import functional as F\n",
    "import numpy as np\n",
    "import time\n",
    "\n",
    "device = 'cuda' if torch.cuda.is_available() else 'cpu'\n",
    "print(device)\n",
    "\n",
    "# hyperparameters\n",
    "block_size=8\n",
    "batch_size=4\n",
    "max_iters = 1000\n",
    "# eval_interval\n",
    "learning_rate = 3e-4\n",
    "eval_iters = 250\n",
    "# dropout = 0.2"
   ]
  },
  {
   "cell_type": "code",
   "execution_count": 44,
   "metadata": {},
   "outputs": [
    {
     "name": "stdout",
     "output_type": "stream",
     "text": [
      "['\\n', ' ', '!', '\"', '&', \"'\", '(', ')', '*', ',', '-', '.', '0', '1', '2', '3', '4', '5', '6', '7', '8', '9', ':', ';', '?', 'A', 'B', 'C', 'D', 'E', 'F', 'G', 'H', 'I', 'J', 'K', 'L', 'M', 'N', 'O', 'P', 'Q', 'R', 'S', 'T', 'U', 'V', 'W', 'X', 'Y', 'Z', '[', ']', '_', 'a', 'b', 'c', 'd', 'e', 'f', 'g', 'h', 'i', 'j', 'k', 'l', 'm', 'n', 'o', 'p', 'q', 'r', 's', 't', 'u', 'v', 'w', 'x', 'y', 'z', '\\ufeff']\n"
     ]
    }
   ],
   "source": [
    "# open txt file and read the content into text var\n",
    "with open('wizard_of_oz.txt', 'r', encoding='utf-8') as f:\n",
    "    text = f.read()\n",
    "\n",
    "chars = sorted(set(text))\n",
    "print(chars)\n",
    "vocab_size = len(chars)"
   ]
  },
  {
   "cell_type": "code",
   "execution_count": 45,
   "metadata": {},
   "outputs": [
    {
     "name": "stdout",
     "output_type": "stream",
     "text": [
      "tensor([80,  1, 28, 39, 42, 39, 44, 32, 49,  1, 25, 38, 28,  1, 44, 32, 29,  1,\n",
      "        47, 33, 50, 25, 42, 28,  1, 33, 38,  1, 39, 50,  0,  0,  1,  1, 26, 49,\n",
      "         0,  0,  1,  1, 36, 11,  1, 30, 42, 25, 38, 35,  1, 26, 25, 45, 37,  0,\n",
      "         0,  1,  1, 25, 45, 44, 32, 39, 42,  1, 39, 30,  1, 44, 32, 29,  1, 47,\n",
      "        33, 50, 25, 42, 28,  1, 39, 30,  1, 39, 50,  9,  1, 44, 32, 29,  1, 36,\n",
      "        25, 38, 28,  1, 39, 30,  1, 39, 50,  9])\n"
     ]
    }
   ],
   "source": [
    "# character level tokenizer\n",
    "string_to_int = {ch:i for i,ch in enumerate(chars)}\n",
    "int_to_string = {i:ch for i,ch in enumerate(chars)}\n",
    "\n",
    "encode = lambda s: [string_to_int[c] for c in s]\n",
    "decode = lambda l: ''.join([int_to_string[i] for i in l])\n",
    "\n",
    "data = torch.tensor(encode(text), dtype=torch.long)\n",
    "print(data[:100])"
   ]
  },
  {
   "cell_type": "code",
   "execution_count": 46,
   "metadata": {},
   "outputs": [
    {
     "name": "stdout",
     "output_type": "stream",
     "text": [
      "inputs:\n",
      "tensor([[67, 57,  1, 54, 72,  1, 60, 71],\n",
      "        [58, 10, 56, 71, 78,  1, 73, 61],\n",
      "        [67, 73, 72,  1, 76, 68, 67,  5],\n",
      "        [67, 60,  1, 54, 73,  1, 61, 58]])\n",
      "targets:\n",
      "tensor([[57,  1, 54, 72,  1, 60, 71, 58],\n",
      "        [10, 56, 71, 78,  1, 73, 61, 58],\n",
      "        [73, 72,  1, 76, 68, 67,  5, 73],\n",
      "        [60,  1, 54, 73,  1, 61, 58, 71]])\n"
     ]
    }
   ],
   "source": [
    "# train and validation splits\n",
    "n =int(0.8*len(data))\n",
    "train_data = data[:n]\n",
    "val_data = data[n:]\n",
    "\n",
    "def get_batch(split):\n",
    "    data = train_data if split == 'train' else val_data\n",
    "    ix = torch.randint(len(data) - block_size, (batch_size,))\n",
    "    # print(ix)\n",
    "    x = torch.stack([data[i:i+block_size] for i in ix])\n",
    "    y = torch.stack([data[i+1:i+block_size+1] for i in ix])\n",
    "    x,y = x.to(device), y.to(device)\n",
    "    return x,y\n",
    "\n",
    "x,y = get_batch('train')\n",
    "print('inputs:')\n",
    "print(x)\n",
    "# print(x.shape)\n",
    "print('targets:')\n",
    "print(y)"
   ]
  },
  {
   "cell_type": "code",
   "execution_count": 47,
   "metadata": {},
   "outputs": [],
   "source": [
    "@torch.no_grad()\n",
    "def estimate_loss():\n",
    "    out = {}\n",
    "    model.eval()\n",
    "    for split in ['train', 'val']:\n",
    "        losses = torch.zeros(eval_iters)\n",
    "        for k in range(eval_iters):\n",
    "            X, Y = get_batch(split)\n",
    "            logits, loss = model(X, Y)\n",
    "            losses[k] = loss.item()\n",
    "        out[split] = losses.mean()\n",
    "    model.train()\n",
    "    return out"
   ]
  },
  {
   "cell_type": "code",
   "execution_count": 48,
   "metadata": {},
   "outputs": [],
   "source": [
    "# inputs and target implementation\n",
    "# x = train_data[:block_size]\n",
    "# y = train_data[1:block_size+1]\n",
    "\n",
    "# for t in range(block_size):\n",
    "#     context = x[:t+1]\n",
    "#     target = y[t]\n",
    "#     print(f'when input is {context} target is {target}')"
   ]
  },
  {
   "cell_type": "code",
   "execution_count": 49,
   "metadata": {},
   "outputs": [
    {
     "name": "stdout",
     "output_type": "stream",
     "text": [
      "\n",
      "1Jqb_v628)ccC:XVZZGdbhUIwdQz?4IwINHgK[,3IQRzpel]R*)Hi7_0PWwF.\"xM4oB?elMojHXNy4cIwoc\"IYdtv'_ZZr_OlDClR,6relops!lrjEgJp ke5(F.G\n",
      "Fqh5QgNq\n",
      "JhSAg(O6]NIS;2)rNnjP\"3hf'kFg2z\"ZlIpD,)mQrNEZKkwOj(oz&\"lhY9[GFL,6\n",
      "1hHme3s'ClIPWJ:Qk',elXBlX6mQF;,qLTq]t\"*;OA!le)&b7wKSdWQZi*WQRn'Vw1MwGqTU\n",
      "1zwt;5(iMIq 4tjkI5o8skyY.R]sKk(I-1ymGMB?[nOUCi,nts9&Nmb*4e9J'yuqZsD[S]tw,lx0T9cVy'xNmOl[S!aHTz&m[?a\n",
      "yF1pj15,(OZ:L*1yz\"tLpy M(2lNiiUH*2w&m-::l0Jnj,E:,yX3b.yE,rN)rhLEs??B5NeYRWJi.,[K9Eg;w]*4Mt'-kxzpyb7.Ih!CNQ23p3R5iA*F!qVO._IUQVZ\n"
     ]
    }
   ],
   "source": [
    "class BigramLanguageModel(nn.Module):\n",
    "    \n",
    "    def __init__(self, vocab_size):\n",
    "        super().__init__()\n",
    "        self.token_embedding_table = nn.Embedding(vocab_size, vocab_size)\n",
    "    \n",
    "    def forward(self, index, targets=None):\n",
    "        logits = self.token_embedding_table(index)\n",
    "\n",
    "        if targets is None:\n",
    "            loss = None\n",
    "        else:\n",
    "            B,T,C = logits.shape\n",
    "            logits = logits.view(B*T, C)\n",
    "            targets = targets.view(B*T)\n",
    "            loss = F.cross_entropy(logits, targets)\n",
    "        return logits, loss\n",
    "\n",
    "    def generate(self, index, max_new_tokens):\n",
    "        # index is (B, T) array of indices in the current context\n",
    "        for _ in range(max_new_tokens):\n",
    "            # get the predictions\n",
    "            logits, loss = self.forward(index)\n",
    "            # focus only on the last time step\n",
    "            logits = logits[:,-1,:]  # becomes (B,C)\n",
    "            # apply softmax to get probabilities\n",
    "            probs = F.softmax(logits, dim=-1)  # (B,C)\n",
    "            # sample form the distribution\n",
    "            index_next = torch.multinomial(probs, num_samples=1)  # (B,1)\n",
    "            # append sampled inex to the running sequence \n",
    "            index = torch.cat((index, index_next), dim=1)  # (B,T+1)\n",
    "        return index\n",
    "\n",
    "model = BigramLanguageModel(vocab_size)\n",
    "m = model.to(device)\n",
    "\n",
    "context = torch.zeros((1,1), dtype=torch.long, device=device)\n",
    "generated_chars = decode(m.generate(context, max_new_tokens=500)[0].tolist())\n",
    "\n",
    "print(generated_chars)"
   ]
  },
  {
   "cell_type": "code",
   "execution_count": 51,
   "metadata": {},
   "outputs": [
    {
     "name": "stdout",
     "output_type": "stream",
     "text": [
      "step: 0, train loss: 4.844, val loss: 4.854\n",
      "step: 250, train loss: 4.785, val loss: 4.807\n",
      "step: 500, train loss: 4.717, val loss: 4.740\n",
      "step: 750, train loss: 4.662, val loss: 4.678\n",
      "4.668766498565674\n"
     ]
    }
   ],
   "source": [
    "# create a PyTorch optimizer\n",
    "optimizer = torch.optim.AdamW(model.parameters(), lr=learning_rate)\n",
    "\n",
    "for iter in range(max_iters):\n",
    "\n",
    "    if iter % eval_iters == 0:\n",
    "        losses = estimate_loss()\n",
    "        print(f\"step: {iter}, train loss: {losses['train']:.3f}, val loss: {losses['val']:.3f}\")\n",
    "\n",
    "    # sample a batch of data\n",
    "    xb, yb = get_batch('train')\n",
    "\n",
    "    # evaluate the loss\n",
    "    logits, loss = model.forward(xb, yb)\n",
    "    optimizer.zero_grad(set_to_none=True)\n",
    "    loss.backward()\n",
    "    optimizer.step()\n",
    "\n",
    "print(loss.item())"
   ]
  },
  {
   "cell_type": "code",
   "execution_count": 33,
   "metadata": {},
   "outputs": [
    {
     "name": "stdout",
     "output_type": "stream",
     "text": [
      "\n",
      "f(nnimCd tindxWst3)Nw0YfCbLnos;GQ35AKFogedLnd 7[AOh(CDoroelQ;Wim.*\n",
      "yhd 6uoC]5uL5.R:( cPtolk?3PLkgVYhah w,  fhOFUain \"Waan]40d d [:R6, 4xGut\n",
      "**e[)J9otgugD_ou,exWJ*iis'7)oid bgZFHW_QJBWp Wisc)Blug\n",
      "70h0nOFm \"A-Vclffoio-\"ZofIMv0qW7iW_VS]Ca; t1njPl\n",
      "yU5E\n",
      "nt;:Y80I1iXXSTulyjC'c9pLCIDL_Kgy:7Y7_r\n",
      "y_Dgheen5XXXGud.sth(mNAB\"anugR*a tld, thi\n",
      "c9\"bLncFZ(4Rn?;Hd3O4Gp stKkaze_bLhanoIlN diis﻿Raz\n",
      "WDJ&5XXCXQ*v9AP1me-\n",
      "6st w5EB[Hd!Curof\n",
      "L﻿z\n",
      "S)orv(timua s\n",
      "kX9N5dovyjpahr:esn]]b-xIP5)UGttXQ\"0NvvjrrB﻿iWAranto Be pzce\n",
      "KL7W\n"
     ]
    }
   ],
   "source": [
    "context = torch.zeros((1,1), dtype=torch.long, device=device)\n",
    "generated_chars = decode(m.generate(context, max_new_tokens=500)[0].tolist())\n",
    "\n",
    "print(generated_chars)"
   ]
  }
 ],
 "metadata": {
  "kernelspec": {
   "display_name": "Python 3 (ipykernel)",
   "language": "python",
   "name": "python3"
  },
  "language_info": {
   "codemirror_mode": {
    "name": "ipython",
    "version": 3
   },
   "file_extension": ".py",
   "mimetype": "text/x-python",
   "name": "python",
   "nbconvert_exporter": "python",
   "pygments_lexer": "ipython3",
   "version": "3.10.13"
  }
 },
 "nbformat": 4,
 "nbformat_minor": 4
}
