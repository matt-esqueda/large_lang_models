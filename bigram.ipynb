{
 "cells": [
  {
   "cell_type": "code",
   "execution_count": 1,
   "metadata": {},
   "outputs": [
    {
     "name": "stdout",
     "output_type": "stream",
     "text": [
      "cpu\n"
     ]
    }
   ],
   "source": [
    "import torch\n",
    "import torch.nn as nn\n",
    "from torch.nn import functional as F\n",
    "import numpy as np\n",
    "import time\n",
    "\n",
    "device = 'cuda' if torch.cuda.is_available() else 'cpu'\n",
    "print(device)\n",
    "\n",
    "# hyperparameters\n",
    "block_size=8\n",
    "batch_size=4\n",
    "max_iters = 1000\n",
    "# eval_interval\n",
    "learning_rate = 3e-4\n",
    "eval_iters = 250\n",
    "# dropout = 0.2"
   ]
  },
  {
   "cell_type": "code",
   "execution_count": 2,
   "metadata": {},
   "outputs": [
    {
     "name": "stdout",
     "output_type": "stream",
     "text": [
      "['\\n', ' ', '!', '\"', '&', \"'\", '(', ')', '*', ',', '-', '.', '0', '1', '2', '3', '4', '5', '6', '7', '8', '9', ':', ';', '?', 'A', 'B', 'C', 'D', 'E', 'F', 'G', 'H', 'I', 'J', 'K', 'L', 'M', 'N', 'O', 'P', 'Q', 'R', 'S', 'T', 'U', 'V', 'W', 'X', 'Y', 'Z', '[', ']', '_', 'a', 'b', 'c', 'd', 'e', 'f', 'g', 'h', 'i', 'j', 'k', 'l', 'm', 'n', 'o', 'p', 'q', 'r', 's', 't', 'u', 'v', 'w', 'x', 'y', 'z', '\\ufeff']\n"
     ]
    }
   ],
   "source": [
    "# open txt file and read the content into text var\n",
    "with open('wizard_of_oz.txt', 'r', encoding='utf-8') as f:\n",
    "    text = f.read()\n",
    "\n",
    "chars = sorted(set(text))\n",
    "print(chars)\n",
    "vocab_size = len(chars)"
   ]
  },
  {
   "cell_type": "code",
   "execution_count": 3,
   "metadata": {},
   "outputs": [
    {
     "name": "stdout",
     "output_type": "stream",
     "text": [
      "tensor([80,  1, 28, 39, 42, 39, 44, 32, 49,  1, 25, 38, 28,  1, 44, 32, 29,  1,\n",
      "        47, 33, 50, 25, 42, 28,  1, 33, 38,  1, 39, 50,  0,  0,  1,  1, 26, 49,\n",
      "         0,  0,  1,  1, 36, 11,  1, 30, 42, 25, 38, 35,  1, 26, 25, 45, 37,  0,\n",
      "         0,  1,  1, 25, 45, 44, 32, 39, 42,  1, 39, 30,  1, 44, 32, 29,  1, 47,\n",
      "        33, 50, 25, 42, 28,  1, 39, 30,  1, 39, 50,  9,  1, 44, 32, 29,  1, 36,\n",
      "        25, 38, 28,  1, 39, 30,  1, 39, 50,  9])\n"
     ]
    }
   ],
   "source": [
    "# character level tokenizer\n",
    "string_to_int = {ch:i for i,ch in enumerate(chars)}\n",
    "int_to_string = {i:ch for i,ch in enumerate(chars)}\n",
    "\n",
    "encode = lambda s: [string_to_int[c] for c in s]\n",
    "decode = lambda l: ''.join([int_to_string[i] for i in l])\n",
    "\n",
    "data = torch.tensor(encode(text), dtype=torch.long)\n",
    "print(data[:100])"
   ]
  },
  {
   "cell_type": "code",
   "execution_count": 4,
   "metadata": {},
   "outputs": [
    {
     "name": "stdout",
     "output_type": "stream",
     "text": [
      "inputs:\n",
      "tensor([[73,  1, 54, 72,  1, 66, 74, 56],\n",
      "        [66, 69, 54, 67, 78,  1, 66, 58],\n",
      "        [36, 58, 73,  1, 74, 72,  1, 72],\n",
      "        [67, 72,  9,  1, 68, 59,  1, 56]])\n",
      "targets:\n",
      "tensor([[ 1, 54, 72,  1, 66, 74, 56, 61],\n",
      "        [69, 54, 67, 78,  1, 66, 58,  1],\n",
      "        [58, 73,  1, 74, 72,  1, 72, 58],\n",
      "        [72,  9,  1, 68, 59,  1, 56, 68]])\n"
     ]
    }
   ],
   "source": [
    "# train and validation splits\n",
    "n =int(0.8*len(data))\n",
    "train_data = data[:n]\n",
    "val_data = data[n:]\n",
    "\n",
    "def get_batch(split):\n",
    "    data = train_data if split == 'train' else val_data\n",
    "    ix = torch.randint(len(data) - block_size, (batch_size,))\n",
    "    # print(ix)\n",
    "    x = torch.stack([data[i:i+block_size] for i in ix])\n",
    "    y = torch.stack([data[i+1:i+block_size+1] for i in ix])\n",
    "    x,y = x.to(device), y.to(device)\n",
    "    return x,y\n",
    "\n",
    "x,y = get_batch('train')\n",
    "print('inputs:')\n",
    "print(x)\n",
    "# print(x.shape)\n",
    "print('targets:')\n",
    "print(y)"
   ]
  },
  {
   "cell_type": "code",
   "execution_count": 5,
   "metadata": {},
   "outputs": [],
   "source": [
    "@torch.no_grad()\n",
    "def estimate_loss():\n",
    "    out = {}\n",
    "    model.eval()\n",
    "    for split in ['train', 'val']:\n",
    "        losses = torch.zeros(eval_iters)\n",
    "        for k in range(eval_iters):\n",
    "            X, Y = get_batch(split)\n",
    "            logits, loss = model(X, Y)\n",
    "            losses[k] = loss.item()\n",
    "        out[split] = losses.mean()\n",
    "    model.train()\n",
    "    return out"
   ]
  },
  {
   "cell_type": "code",
   "execution_count": 6,
   "metadata": {},
   "outputs": [],
   "source": [
    "# inputs and target implementation\n",
    "# x = train_data[:block_size]\n",
    "# y = train_data[1:block_size+1]\n",
    "\n",
    "# for t in range(block_size):\n",
    "#     context = x[:t+1]\n",
    "#     target = y[t]\n",
    "#     print(f'when input is {context} target is {target}')"
   ]
  },
  {
   "cell_type": "code",
   "execution_count": 7,
   "metadata": {},
   "outputs": [
    {
     "name": "stdout",
     "output_type": "stream",
     "text": [
      "\n",
      "Sp_qV'iuJ2BOWW\n",
      "tc*9;E2P0,3\"hO5MVZ1C.0\"OJs p\"9tQqZsq:*C1C.R7k.TW&PM&ZBymyn\n",
      "kM\"!n?*(U5e[﻿EF'c-:MtrFwHzP,3TpB]fY.nZ2BFcl)qfHFRCB.9qJ\n",
      "8(]9qf9*fl&zwrkPLmgIR_ltOKOU0k7qMJt-[!9Ubb!:oJZ2XbzDv:qf_d[?3tKeAVD7b7Z7&zP.M:W':VAJ?aQFa_Wuc1'*C17mO8T3?Q. ]X8K!\"hA-'1﻿ZxJtKMgUWR&z;m]TOHFRChKKU60VNJW\n",
      "SznA\":*8hOTFB8M Yiw\n",
      "FRxnd8hBR?a?a(dyC\n",
      ".zB]BvR?:gZS9SEtaao,xhIs\"VYRxGAJ[--.D1uCNl8.mC1.foyCFGlOWWM]JkSPhIL0-vj_Jt_OThTPjdV :!,CKxbUf2al:]boGdGg0ibkPC3;Hf9Wq!rpykUq&_2]ngv_Jj_f9qatjNSzHFpK?61.:V2([F!Rtr4B;gMpe(qhhu:g!\"_U\n"
     ]
    }
   ],
   "source": [
    "class BigramLanguageModel(nn.Module):\n",
    "    \n",
    "    def __init__(self, vocab_size):\n",
    "        super().__init__()\n",
    "        self.token_embedding_table = nn.Embedding(vocab_size, vocab_size)\n",
    "    \n",
    "    def forward(self, index, targets=None):\n",
    "        logits = self.token_embedding_table(index)\n",
    "\n",
    "        if targets is None:\n",
    "            loss = None\n",
    "        else:\n",
    "            B,T,C = logits.shape\n",
    "            logits = logits.view(B*T, C)\n",
    "            targets = targets.view(B*T)\n",
    "            loss = F.cross_entropy(logits, targets)\n",
    "        return logits, loss\n",
    "\n",
    "    def generate(self, index, max_new_tokens):\n",
    "        # index is (B, T) array of indices in the current context\n",
    "        for _ in range(max_new_tokens):\n",
    "            # get the predictions\n",
    "            logits, loss = self.forward(index)\n",
    "            # focus only on the last time step\n",
    "            logits = logits[:,-1,:]  # becomes (B,C)\n",
    "            # apply softmax to get probabilities\n",
    "            probs = F.softmax(logits, dim=-1)  # (B,C)\n",
    "            # sample form the distribution\n",
    "            index_next = torch.multinomial(probs, num_samples=1)  # (B,1)\n",
    "            # append sampled inex to the running sequence \n",
    "            index = torch.cat((index, index_next), dim=1)  # (B,T+1)\n",
    "        return index\n",
    "\n",
    "model = BigramLanguageModel(vocab_size)\n",
    "m = model.to(device)\n",
    "\n",
    "context = torch.zeros((1,1), dtype=torch.long, device=device)\n",
    "generated_chars = decode(m.generate(context, max_new_tokens=500)[0].tolist())\n",
    "\n",
    "print(generated_chars)"
   ]
  },
  {
   "cell_type": "code",
   "execution_count": 8,
   "metadata": {},
   "outputs": [
    {
     "name": "stdout",
     "output_type": "stream",
     "text": [
      "step: 0, train loss: 4.746, val loss: 4.751\n",
      "step: 250, train loss: 4.696, val loss: 4.696\n",
      "step: 500, train loss: 4.627, val loss: 4.638\n",
      "step: 750, train loss: 4.567, val loss: 4.598\n",
      "4.589681625366211\n"
     ]
    }
   ],
   "source": [
    "# create a PyTorch optimizer\n",
    "optimizer = torch.optim.AdamW(model.parameters(), lr=learning_rate)\n",
    "\n",
    "for iter in range(max_iters):\n",
    "\n",
    "    if iter % eval_iters == 0:\n",
    "        losses = estimate_loss()\n",
    "        print(f\"step: {iter}, train loss: {losses['train']:.3f}, val loss: {losses['val']:.3f}\")\n",
    "\n",
    "    # sample a batch of data\n",
    "    xb, yb = get_batch('train')\n",
    "\n",
    "    # evaluate the loss\n",
    "    logits, loss = model.forward(xb, yb)\n",
    "    optimizer.zero_grad(set_to_none=True)\n",
    "    loss.backward()\n",
    "    optimizer.step()\n",
    "\n",
    "print(loss.item())"
   ]
  },
  {
   "cell_type": "code",
   "execution_count": 9,
   "metadata": {},
   "outputs": [
    {
     "name": "stdout",
     "output_type": "stream",
     "text": [
      "\n",
      "M;6\"v\";XYf0hHk6P\"_p4Hxp&?GnBa w5Ts'1KytPY'ebasFM\n",
      "w['FJ?wZ2sC0-e4lQ [RD5HzUirY-N3r_\n",
      "u\n",
      "Au\n",
      "]75DCzYhmk&z FgX*?6E6mgLHC*C*aAD]WG7J(]aan3Mx9qZ4INYzk.IBboJ?7_l\n",
      "pd;4p.?T7﻿_nNVjr2aNQvW9k)xU6 9hJ:N\"56GK1qNVWG41_M\"v3pB8A3(Q\"AXXqh5wQ\"B&[]P-d JR7﻿teh!n0]p-(&ZSKM2aZriszhc(Q,IYN-(5)cvXzQ'1wBs':!Y0yCzZ&g)\n",
      "p9hmH!Bjw[oy,0xhUWupm f6Is& mQwZsOYigeBMu()\"U028\"&QT'irn4yk-!N)AuZajN6k(3?aN]yIR﻿q,,dT---MFHxG&?NWuCNtug3n6&[XDy;S'L_XN]?*1CIOslyCN-Gj[TAcPHkekS_7ZD G2rtAB(bc\"yK﻿qi[tn﻿Hg.y:!T!vWG\"_XY)g9h,﻿Uq[﻿EEvk,MJ,vK mg:P,\n"
     ]
    }
   ],
   "source": [
    "context = torch.zeros((1,1), dtype=torch.long, device=device)\n",
    "generated_chars = decode(m.generate(context, max_new_tokens=500)[0].tolist())\n",
    "\n",
    "print(generated_chars)"
   ]
  }
 ],
 "metadata": {
  "kernelspec": {
   "display_name": "Python 3 (ipykernel)",
   "language": "python",
   "name": "python3"
  },
  "language_info": {
   "codemirror_mode": {
    "name": "ipython",
    "version": 3
   },
   "file_extension": ".py",
   "mimetype": "text/x-python",
   "name": "python",
   "nbconvert_exporter": "python",
   "pygments_lexer": "ipython3",
   "version": "3.10.13"
  }
 },
 "nbformat": 4,
 "nbformat_minor": 4
}
